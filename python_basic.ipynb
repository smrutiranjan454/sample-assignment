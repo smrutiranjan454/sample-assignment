{
 "cells": [
  {
   "cell_type": "code",
   "execution_count": 1,
   "id": "552b483c-fc15-4536-8f7d-c0537b40e6f8",
   "metadata": {},
   "outputs": [
    {
     "name": "stdin",
     "output_type": "stream",
     "text": [
      "enter the num1: 4\n",
      "enter the num2: 5\n"
     ]
    },
    {
     "name": "stdout",
     "output_type": "stream",
     "text": [
      "sum is : 9\n"
     ]
    }
   ],
   "source": [
    "#wap to find addition of two number\n",
    "\n",
    "#code \n",
    "\n",
    "num1=int(input(\"enter the num1:\"))\n",
    "num2=int(input(\"enter the num2:\"))\n",
    "add=num1+num2\n",
    "\n",
    "print(\"sum is :\",add)"
   ]
  },
  {
   "cell_type": "code",
   "execution_count": null,
   "id": "17cdd257-46ac-4323-bcc6-c69229d5925f",
   "metadata": {},
   "outputs": [],
   "source": []
  }
 ],
 "metadata": {
  "kernelspec": {
   "display_name": "Python 3 (ipykernel)",
   "language": "python",
   "name": "python3"
  },
  "language_info": {
   "codemirror_mode": {
    "name": "ipython",
    "version": 3
   },
   "file_extension": ".py",
   "mimetype": "text/x-python",
   "name": "python",
   "nbconvert_exporter": "python",
   "pygments_lexer": "ipython3",
   "version": "3.10.8"
  }
 },
 "nbformat": 4,
 "nbformat_minor": 5
}
